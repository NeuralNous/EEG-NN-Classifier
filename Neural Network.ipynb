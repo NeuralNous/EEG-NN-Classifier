{
 "cells": [
  {
   "cell_type": "markdown",
   "source": [
    "# imports"
   ],
   "metadata": {
    "collapsed": false
   }
  },
  {
   "cell_type": "code",
   "execution_count": 31,
   "outputs": [],
   "source": [
    "import pandas as pd\n",
    "import numpy as np\n",
    "import utils\n",
    "import features\n",
    "\n",
    "import torch\n",
    "from torch import nn\n",
    "from torch import optim\n",
    "from torch.nn import functional as F\n",
    "import classifier\n",
    "\n",
    "# Для отображения графиков\n",
    "import matplotlib.pyplot as plt\n",
    "import seaborn as sns\n",
    "\n",
    "from functools import partial\n",
    "\n",
    "# data folder\n",
    "data_folder = './data/'\n",
    "file_name = 'concentrate.csv'\n",
    "\n",
    "# constants\n",
    "SEED = 1\n",
    "DELTA_TIME = 128\n",
    "CHUNK_SIZE = 8\n",
    "SHIFT_TRAIN = 64\n",
    "SHIFT_TEST = 64\n",
    "verbose = 1"
   ],
   "metadata": {
    "collapsed": false,
    "pycharm": {
     "name": "#%%\n"
    }
   }
  },
  {
   "cell_type": "markdown",
   "source": [
    "# Reading file and split for test/train"
   ],
   "metadata": {
    "collapsed": false,
    "pycharm": {
     "name": "#%% md\n"
    }
   }
  },
  {
   "cell_type": "code",
   "execution_count": 32,
   "outputs": [
    {
     "name": "stdout",
     "output_type": "stream",
     "text": [
      "Reading file ./data/concentrate.csv \n",
      "\n",
      "Creating train/test...\n",
      "train.shape (52224, 16)\n",
      "test.shape (13312, 16)\n",
      "X_test.shape (195, 128, 14)\n",
      "Y_test.shape (195,)\n",
      "X_train.shape (765, 128, 14)\n",
      "Y_train.shape (765,)\n"
     ]
    }
   ],
   "source": [
    "if verbose == 1:\n",
    "    print('Reading file', data_folder + file_name, '\\n')\n",
    "\n",
    "# reading file\n",
    "data = pd.read_csv(data_folder + file_name)\n",
    "data['class'], class_dict = utils.encode_column(data['class'])\n",
    "\n",
    "if verbose == 1:\n",
    "    print('Creating train/test...')\n",
    "\n",
    "# train test split\n",
    "train, test = utils.eeg_train_test_split(data.to_numpy(), chunk_size=DELTA_TIME * CHUNK_SIZE,\n",
    "                                         test_size=0.2, random_state=SEED)\n",
    "\n",
    "if verbose == 1:\n",
    "    print('train.shape', train.shape)\n",
    "    print('test.shape', test.shape)\n",
    "\n",
    "# creating 3d array from 2d\n",
    "X_test, Y_test = utils.create_x_y(test, dt=DELTA_TIME, shift=SHIFT_TEST, verbose=0)\n",
    "X_train, Y_train = utils.create_x_y(train, dt=DELTA_TIME, shift=SHIFT_TRAIN)\n",
    "\n",
    "if verbose == 1:\n",
    "    print('X_test.shape', X_test.shape)\n",
    "    print('Y_test.shape', Y_test.shape)\n",
    "    print('X_train.shape', X_train.shape)\n",
    "    print('Y_train.shape', Y_train.shape)"
   ],
   "metadata": {
    "collapsed": false,
    "pycharm": {
     "name": "#%%\n"
    }
   }
  },
  {
   "cell_type": "markdown",
   "source": [
    "# Preprocessing\n",
    "\n",
    "- Scale\n",
    "- FFT\n",
    "- Normalize"
   ],
   "metadata": {
    "collapsed": false,
    "pycharm": {
     "name": "#%% md\n"
    }
   }
  },
  {
   "cell_type": "code",
   "execution_count": 33,
   "outputs": [
    {
     "name": "stdout",
     "output_type": "stream",
     "text": [
      "X_train_p.shape: (765, 14, 128)\n",
      "X_train_fft.shape: (765, 14, 65)\n"
     ]
    }
   ],
   "source": [
    "import preprocessing\n",
    "from sklearn.pipeline import Pipeline\n",
    "import torch_utils\n",
    "\n",
    "\n",
    "preprocess_X = Pipeline(steps=[\n",
    "    ('Scale', preprocessing.Scale()),\n",
    "    ('Normalize', preprocessing.Normalize()),\n",
    "    ('Transpose', preprocessing.Transpose())\n",
    "])\n",
    "\n",
    "preprocess_X_fft = Pipeline(steps=[\n",
    "    ('Scale', preprocessing.Scale()),\n",
    "    ('FFT', preprocessing.FFT()),\n",
    "    ('Normalize', preprocessing.Normalize()),\n",
    "    ('Transpose', preprocessing.Transpose()),\n",
    "])\n",
    "\n",
    "X_train_p = preprocess_X.fit_transform(X_train)\n",
    "X_train_fft = preprocess_X_fft.fit_transform(X_train)\n",
    "\n",
    "X_test_p = preprocess_X.transform(X_test)\n",
    "X_test_fft = preprocess_X_fft.transform(X_test)\n",
    "if verbose == 1:\n",
    "    print('X_train_p.shape:', X_train_p.shape)\n",
    "    print('X_train_fft.shape:', X_train_fft.shape)"
   ],
   "metadata": {
    "collapsed": false,
    "pycharm": {
     "name": "#%%\n"
    }
   }
  },
  {
   "cell_type": "markdown",
   "source": [
    "# Torch.\n",
    "\n",
    "Creating datasets, loaders etc."
   ],
   "metadata": {
    "collapsed": false,
    "pycharm": {
     "name": "#%% md\n"
    }
   }
  },
  {
   "cell_type": "code",
   "execution_count": 34,
   "outputs": [
    {
     "name": "stdout",
     "output_type": "stream",
     "text": [
      "Device: cuda:0\n",
      "Creatin datasets...\n",
      "Creating loaders...\n"
     ]
    }
   ],
   "source": [
    "device = torch.device('cuda:0' if torch.cuda.is_available() else 'cpu')\n",
    "\n",
    "if verbose == 1:\n",
    "    print('Device:', device)\n",
    "    print('Creatin datasets...')\n",
    "\n",
    "datasets = torch_utils.create_dataset((X_train_p, X_train_fft), Y_train),\\\n",
    "           torch_utils.create_dataset((X_test_p, X_test_fft), Y_test)\n",
    "\n",
    "if verbose == 1:\n",
    "    print('Creating loaders...')\n",
    "\n",
    "trn_dl, val_dl = torch_utils.create_loaders(datasets, bs=128)\n"
   ],
   "metadata": {
    "collapsed": false,
    "pycharm": {
     "name": "#%%\n"
    }
   }
  },
  {
   "cell_type": "code",
   "execution_count": 35,
   "outputs": [
    {
     "name": "stdout",
     "output_type": "stream",
     "text": [
      "Raw feature number: 14\n",
      "FFT feature number: 14\n",
      "Train size: 765\n",
      "Learning rate: 0.001\n",
      "Max epochs: 3000\n",
      "Iterations per epoch: 6\n",
      "Period: 18000\n",
      "Creating model...\n",
      "Start model training\n",
      "Epoch:   1. Loss: 0.7011. Acc.: 46.15%\n",
      "Epoch 1 best model saved with accuracy: 46.15%\n",
      "Epoch:   2. Loss: 0.7053. Acc.: 46.15%\n",
      "Epoch:   4. Loss: 0.7039. Acc.: 46.15%\n",
      "Epoch:   8. Loss: 0.6971. Acc.: 46.15%\n",
      "Epoch:  16. Loss: 0.6903. Acc.: 46.15%\n",
      "Epoch:  32. Loss: 0.6805. Acc.: 46.15%\n",
      "Epoch 56 best model saved with accuracy: 46.67%\n",
      "Epoch 57 best model saved with accuracy: 47.18%\n",
      "Epoch 58 best model saved with accuracy: 48.72%\n",
      "Epoch 59 best model saved with accuracy: 49.74%\n",
      "Epoch 60 best model saved with accuracy: 52.31%\n",
      "Epoch 61 best model saved with accuracy: 53.85%\n",
      "Epoch 62 best model saved with accuracy: 55.90%\n",
      "Epoch 63 best model saved with accuracy: 57.95%\n",
      "Epoch:  64. Loss: 0.5891. Acc.: 59.49%\n",
      "Epoch 64 best model saved with accuracy: 59.49%\n",
      "Epoch 65 best model saved with accuracy: 60.00%\n",
      "Epoch 66 best model saved with accuracy: 62.56%\n",
      "Epoch 70 best model saved with accuracy: 63.08%\n",
      "Epoch 71 best model saved with accuracy: 63.59%\n",
      "Epoch 87 best model saved with accuracy: 64.10%\n",
      "Epoch 88 best model saved with accuracy: 64.62%\n",
      "Epoch 89 best model saved with accuracy: 66.15%\n",
      "Epoch 98 best model saved with accuracy: 66.67%\n",
      "Epoch 101 best model saved with accuracy: 67.69%\n",
      "Epoch 112 best model saved with accuracy: 68.21%\n",
      "Epoch 126 best model saved with accuracy: 69.23%\n",
      "Epoch: 128. Loss: 0.4590. Acc.: 68.72%\n",
      "Epoch 131 best model saved with accuracy: 69.74%\n",
      "Epoch 140 best model saved with accuracy: 70.26%\n",
      "Epoch 166 best model saved with accuracy: 71.79%\n",
      "Epoch 174 best model saved with accuracy: 72.31%\n",
      "Epoch: 256. Loss: 0.2392. Acc.: 68.21%\n",
      "Epoch 270 best model saved with accuracy: 72.82%\n",
      "Epoch 301 best model saved with accuracy: 74.36%\n",
      "Epoch 308 best model saved with accuracy: 74.87%\n",
      "Epoch 310 best model saved with accuracy: 75.38%\n",
      "Epoch 367 best model saved with accuracy: 76.41%\n",
      "Epoch: 512. Loss: 0.0996. Acc.: 74.36%\n",
      "Early stopping on epoch 867\n",
      "Done!\n"
     ]
    }
   ],
   "source": [
    "raw_feat_number = X_train_p.shape[1]\n",
    "fft_feat_number = X_train_fft.shape[1]\n",
    "train_size = len(Y_train)\n",
    "\n",
    "if verbose == 1:\n",
    "    print('Raw feature number:', raw_feat_number)\n",
    "    print('FFT feature number:', fft_feat_number)\n",
    "    print('Train size:', train_size)\n",
    "\n",
    "lr = 0.001\n",
    "n_epochs = 3000\n",
    "iterations_per_epoch = len(trn_dl)\n",
    "period = n_epochs * iterations_per_epoch\n",
    "\n",
    "if verbose == 1:\n",
    "    print('Learning rate:', lr)\n",
    "    print('Max epochs:', n_epochs)\n",
    "    print('Iterations per epoch:', iterations_per_epoch)\n",
    "    print('Period:', period)\n",
    "\n",
    "num_classes = 2\n",
    "patience, trials = 500, 0\n",
    "base = 1\n",
    "step = 2\n",
    "\n",
    "best_acc = 0\n",
    "iteration = 0\n",
    "loss_history = []\n",
    "acc_history = []\n",
    "\n",
    "model = classifier.Classifier(raw_feat_number, fft_feat_number, num_classes, drop = 0.5).to(device)\n",
    "\n",
    "if verbose == 1:\n",
    "    print('Creating model...')\n",
    "\n",
    "criterion = nn.CrossEntropyLoss(reduction='sum')\n",
    "opt = optim.Adam(model.parameters(), lr=lr)\n",
    "sched = classifier.Scheduler(opt, partial(classifier.one_cycle, t_max=period, pivot=0.1))\n",
    "\n",
    "print('Start model training')\n",
    "\n",
    "for epoch in range(1, n_epochs + 1):\n",
    "    model.train()\n",
    "    epoch_loss = 0\n",
    "    for i, batch in enumerate(trn_dl):\n",
    "        iteration += 1\n",
    "        x_raw, x_fft, y_batch = [t.to(device) for t in batch]\n",
    "        sched.step(iteration)  # update the learning rate\n",
    "        opt.zero_grad()\n",
    "        out = model(x_raw, x_fft)\n",
    "        loss = criterion(out, y_batch)\n",
    "        epoch_loss += loss.item()\n",
    "        loss.backward()\n",
    "        opt.step()\n",
    "\n",
    "    epoch_loss /= train_size\n",
    "    loss_history.append(epoch_loss)\n",
    "\n",
    "    model.eval()\n",
    "    correct, total = 0, 0\n",
    "    for batch in val_dl:\n",
    "        x_raw, x_fft, y_batch = [t.to(device) for t in batch]\n",
    "        out = model(x_raw, x_fft)\n",
    "        preds = F.log_softmax(out, dim=1).argmax(dim=1)\n",
    "        total += y_batch.size(0)\n",
    "        correct += (preds == y_batch).sum().item()\n",
    "\n",
    "    acc = correct / total\n",
    "    acc_history.append(acc)\n",
    "\n",
    "    if epoch % base == 0:\n",
    "        print(f'Epoch: {epoch:3d}. Loss: {epoch_loss:.4f}. Acc.: {acc:2.2%}')\n",
    "        base *= step\n",
    "\n",
    "    if acc > best_acc:\n",
    "        trials = 0\n",
    "        best_acc = acc\n",
    "        torch.save(model.state_dict(), 'model/' + 'best.pth')\n",
    "        print(f'Epoch {epoch} best model saved with accuracy: {best_acc:2.2%}')\n",
    "    else:\n",
    "        trials += 1\n",
    "        if trials >= patience:\n",
    "            print(f'Early stopping on epoch {epoch}')\n",
    "            break\n",
    "\n",
    "print('Done!')"
   ],
   "metadata": {
    "collapsed": false,
    "pycharm": {
     "name": "#%%\n"
    }
   }
  },
  {
   "cell_type": "code",
   "execution_count": 36,
   "outputs": [],
   "source": [
    "def score_model(model, metric, data):\n",
    "    model.eval()  # testing mode\n",
    "    scores = 0\n",
    "    for X_batch, Y_label in data:\n",
    "        Y_pred = model.forward(X_batch.to(device)).float()\n",
    "        scores += metric(Y_pred, Y_label.to(device)).mean().item()\n",
    "\n",
    "    return scores/len(data)"
   ],
   "metadata": {
    "collapsed": false,
    "pycharm": {
     "name": "#%%\n"
    }
   }
  },
  {
   "cell_type": "code",
   "execution_count": 37,
   "outputs": [],
   "source": [
    "def smooth(y, box_pts):\n",
    "    box = np.ones(box_pts)/box_pts\n",
    "    y_smooth = np.convolve(y, box, mode='same')\n",
    "    return y_smooth"
   ],
   "metadata": {
    "collapsed": false,
    "pycharm": {
     "name": "#%%\n"
    }
   }
  },
  {
   "cell_type": "code",
   "execution_count": 38,
   "outputs": [
    {
     "data": {
      "text/plain": "Text(0, 0.5, 'Accuracy')"
     },
     "execution_count": 38,
     "metadata": {},
     "output_type": "execute_result"
    },
    {
     "data": {
      "text/plain": "<Figure size 864x288 with 2 Axes>",
      "image/png": "[encoded data removed]"
     },
     "metadata": {
      "needs_background": "light"
     },
     "output_type": "display_data"
    }
   ],
   "source": [
    "f, ax = plt.subplots(1, 2, figsize=(12, 4))\n",
    "\n",
    "ax[0].plot(loss_history, label='loss')\n",
    "ax[0].set_title('Validation Loss History')\n",
    "ax[0].set_xlabel('Epoch no.')\n",
    "ax[0].set_ylabel('Loss')\n",
    "\n",
    "ax[1].plot(smooth(acc_history, 5)[:-2], label='acc')\n",
    "ax[1].set_title('Validation Accuracy History')\n",
    "ax[1].set_xlabel('Epoch no.')\n",
    "ax[1].set_ylabel('Accuracy')"
   ],
   "metadata": {
    "collapsed": false,
    "pycharm": {
     "name": "#%%\n"
    }
   }
  }
 ],
 "metadata": {
  "kernelspec": {
   "display_name": "Python 3",
   "language": "python",
   "name": "python3"
  },
  "language_info": {
   "codemirror_mode": {
    "name": "ipython",
    "version": 2
   },
   "file_extension": ".py",
   "mimetype": "text/x-python",
   "name": "python",
   "nbconvert_exporter": "python",
   "pygments_lexer": "ipython2",
   "version": "2.7.6"
  }
 },
 "nbformat": 4,
 "nbformat_minor": 0
}